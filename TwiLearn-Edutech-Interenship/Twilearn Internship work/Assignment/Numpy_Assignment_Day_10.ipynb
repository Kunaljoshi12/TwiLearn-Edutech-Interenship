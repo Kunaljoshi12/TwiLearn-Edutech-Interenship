{
 "cells": [
  {
   "cell_type": "markdown",
   "metadata": {
    "id": "v_5a6dEGYukp"
   },
   "source": [
    "# <center> Numpy Basics </center>"
   ]
  },
  {
   "cell_type": "code",
   "execution_count": 1,
   "metadata": {
    "id": "NnhU92SsYukv"
   },
   "outputs": [],
   "source": [
    "#import numpy module with alias np\n",
    "\n",
    "import numpy as np"
   ]
  },
  {
   "cell_type": "markdown",
   "metadata": {
    "id": "onEY9HMeYuk0"
   },
   "source": [
    "We can create a NumPy ndarray object by using the array() function.\n",
    "To create an ndarray, we can pass a list, tuple or any array-like object into the array() method, and it will be converted into an ndarray:\n"
   ]
  },
  {
   "cell_type": "code",
   "execution_count": 2,
   "metadata": {
    "id": "BCdPh0rqYuk0"
   },
   "outputs": [],
   "source": [
    "# Define a numpy array passing a list with  1,2 and 3 as elements in it\n",
    "\n",
    "arr = np.array([1,2,3])"
   ]
  },
  {
   "cell_type": "code",
   "execution_count": 3,
   "metadata": {
    "id": "up-97mFyYuk1"
   },
   "outputs": [
    {
     "data": {
      "text/plain": [
       "array([1, 2, 3])"
      ]
     },
     "execution_count": 3,
     "metadata": {},
     "output_type": "execute_result"
    }
   ],
   "source": [
    "# print output\n",
    "arr\n"
   ]
  },
  {
   "cell_type": "markdown",
   "metadata": {
    "id": "I5wC2n70Yuk2"
   },
   "source": [
    "## Dimensions in Arrays\n",
    "\n",
    "Create arrays of different dimentions.\n",
    "\n",
    "a=A numpy array with one single integer 10\n",
    "\n",
    "b=A numpy array passing a list having a list= [1,2,3]\n",
    "\n",
    "c=A numpy array passing nested list having [[1, 2, 3], [4, 5, 6]] as elements\n",
    "\n",
    "d=A numpy array passing nested list having [[[1, 2, 3], [4, 5, 6]], [[1, 2, 3], [4, 5, 6]]] as elements"
   ]
  },
  {
   "cell_type": "code",
   "execution_count": 4,
   "metadata": {
    "id": "75VeuGacYuk3"
   },
   "outputs": [
    {
     "data": {
      "text/plain": [
       "array([[[1, 2, 3],\n",
       "        [4, 5, 6]],\n",
       "\n",
       "       [[1, 2, 3],\n",
       "        [4, 5, 6]]])"
      ]
     },
     "execution_count": 4,
     "metadata": {},
     "output_type": "execute_result"
    }
   ],
   "source": [
    "#define a,b,c and d as instructed above\n",
    "\n",
    "a = np.array(10)\n",
    "b = np.array([1,2,3])\n",
    "c = np.array([[1,2,3], [4,5,6]])\n",
    "d = np.array([[[1,2,3],[4,5,6]], [[1,2,3],[4,5,6]]])\n",
    "\n",
    "d\n"
   ]
  },
  {
   "cell_type": "markdown",
   "metadata": {
    "id": "qtUQhJgsYuk5"
   },
   "source": [
    "Are you ready to check its dimention? Use ndim attribute on each variable to check its dimention"
   ]
  },
  {
   "cell_type": "code",
   "execution_count": 5,
   "metadata": {
    "id": "WqRlO_elYuk6"
   },
   "outputs": [
    {
     "name": "stdout",
     "output_type": "stream",
     "text": [
      "0\n",
      "1\n",
      "2\n",
      "3\n"
     ]
    }
   ],
   "source": [
    "#print dimentions of a,b, c and d\n",
    "print(np.ndim(a))\n",
    "print(np.ndim(b))\n",
    "print(np.ndim(c))\n",
    "print(np.ndim(d))\n",
    "\n",
    "\n",
    "\n"
   ]
  },
  {
   "cell_type": "markdown",
   "metadata": {
    "id": "GdfDcthEYuk7"
   },
   "source": [
    "Hey hey. Did you see! you have created 0-D,1-DeprecationWarning, 2-D and 3-D arrays.\n",
    "\n",
    "Lets print there shape as well. You can check shape using shape attribute\n",
    "\n"
   ]
  },
  {
   "cell_type": "code",
   "execution_count": 6,
   "metadata": {
    "id": "Dbo7BMcNYuk8"
   },
   "outputs": [
    {
     "name": "stdout",
     "output_type": "stream",
     "text": [
      "()\n",
      "(3,)\n",
      "(2, 3)\n",
      "(2, 2, 3)\n"
     ]
    }
   ],
   "source": [
    "# print shape of each a,b ,c and d\n",
    "print(a.shape)\n",
    "print(b.shape)\n",
    "print(c.shape)\n",
    "print(d.shape)"
   ]
  },
  {
   "cell_type": "markdown",
   "metadata": {
    "id": "zznIHO2BYuk8"
   },
   "source": [
    "Lets check data type passed in our array. To check data type you can use dtype attribute"
   ]
  },
  {
   "cell_type": "code",
   "execution_count": 7,
   "metadata": {
    "id": "IqR87PE-Yuk9"
   },
   "outputs": [
    {
     "name": "stdout",
     "output_type": "stream",
     "text": [
      "int32\n",
      "int32\n"
     ]
    }
   ],
   "source": [
    "# print data type of c and d\n",
    "\n",
    "print(c.dtype)\n",
    "print(d.dtype)"
   ]
  },
  {
   "cell_type": "markdown",
   "metadata": {
    "id": "bvZI9gIfYuk9"
   },
   "source": [
    "Above output mean our array is having int type elements in it."
   ]
  },
  {
   "cell_type": "markdown",
   "metadata": {
    "id": "JTIMcpHZYuk9"
   },
   "source": [
    "Lets check the type of our variable. To check type of any numpy variable use type() function "
   ]
  },
  {
   "cell_type": "code",
   "execution_count": 8,
   "metadata": {
    "id": "4XscrKR9Yuk9"
   },
   "outputs": [
    {
     "name": "stdout",
     "output_type": "stream",
     "text": [
      "<class 'numpy.ndarray'>\n",
      "<class 'numpy.ndarray'>\n"
     ]
    }
   ],
   "source": [
    "#print type of a and b variable\n",
    "print(type(a))\n",
    "print(type(b))"
   ]
  },
  {
   "cell_type": "code",
   "execution_count": 9,
   "metadata": {
    "id": "cmEidey1Yuk9"
   },
   "outputs": [
    {
     "name": "stdout",
     "output_type": "stream",
     "text": [
      "3\n"
     ]
    }
   ],
   "source": [
    "# Lets check length of array b, using len() function\n",
    "# len(b)\n",
    "print(len(b))"
   ]
  },
  {
   "cell_type": "markdown",
   "metadata": {
    "id": "8k-sX7zmYuk-"
   },
   "source": [
    "Bravo!You have Defined ndarray i.e numpy array in variable a nd b. Also you have successfully learned how to create numpy. "
   ]
  },
  {
   "cell_type": "code",
   "execution_count": null,
   "metadata": {
    "id": "R4ylxj2I_Xra"
   },
   "outputs": [],
   "source": []
  },
  {
   "cell_type": "markdown",
   "metadata": {
    "id": "bl8PwahHYuk-"
   },
   "source": [
    "Create two list l1 and l2 where, l1=[10,20,30] and l2=[40,50,60]\n",
    "Also define two numpy arrays l3,l4 where l3 has l1 as element and l4 has l2 as element\n"
   ]
  },
  {
   "cell_type": "code",
   "execution_count": 10,
   "metadata": {
    "id": "-cZT6aZlYuk-"
   },
   "outputs": [
    {
     "data": {
      "text/plain": [
       "array([[40, 50, 60]])"
      ]
     },
     "execution_count": 10,
     "metadata": {},
     "output_type": "execute_result"
    }
   ],
   "source": [
    "# Define l1,l2,l3 and l4 as stated above.\n",
    "l1 = [10,20,30]\n",
    "l2 = [40,50,60]\n",
    "l3 = np.array([l1])\n",
    "l4 = np.array([l2])\n",
    "\n",
    "l4"
   ]
  },
  {
   "cell_type": "markdown",
   "metadata": {
    "id": "9muN0ZR5Yuk-"
   },
   "source": [
    "Lets multiply each elements of l1 with corresponding elements of l2\n",
    "\n",
    "Here use list comprehention to do so. Lets see how much you remember your work in other assignments.\n",
    "\n",
    "Note: use %timeit as prefix before your line of code inorder to calculate total time taken to run that line<br>\n",
    "eg. %timeit my_code"
   ]
  },
  {
   "cell_type": "code",
   "execution_count": 11,
   "metadata": {
    "id": "Gt0o_ZSCYuk_"
   },
   "outputs": [
    {
     "name": "stdout",
     "output_type": "stream",
     "text": [
      "Product is : [400, 1000, 1800]\n",
      "Product is : [400, 1000, 1800]\n",
      "Product is : [400, 1000, 1800]\n",
      "Product is : [400, 1000, 1800]\n",
      "Product is : [400, 1000, 1800]\n",
      "Product is : [400, 1000, 1800]\n",
      "Product is : [400, 1000, 1800]\n",
      "Product is : [400, 1000, 1800]\n",
      "Product is : [400, 1000, 1800]\n",
      "Product is : [400, 1000, 1800]\n",
      "0.0007280000000093878\n"
     ]
    }
   ],
   "source": [
    "#code here as instructed above\n",
    "import timeit\n",
    "\n",
    "mysetup = \"from math import prod\"\n",
    "\n",
    "mycode = '''\n",
    "l1 = [10,20,30]\n",
    "l2 = [40,50,60]\n",
    "Result = []\n",
    "for i1,i2 in zip(l1,l2):\n",
    "  Result.append(i1*i2)\n",
    "\n",
    "print(\"Product is :\" , Result)\n",
    "'''\n",
    "\n",
    "print (timeit.timeit(setup = mysetup,stmt = mycode,number = 10))"
   ]
  },
  {
   "cell_type": "markdown",
   "metadata": {
    "id": "xT45pl-RYuk_"
   },
   "source": [
    "Lets mulptiply l3 and l4\n",
    "\n",
    "Note: use %timeit as prefix before your line of code inorder to calculate total time taken to run that line"
   ]
  },
  {
   "cell_type": "code",
   "execution_count": 12,
   "metadata": {
    "id": "SceA6IrwYuk_"
   },
   "outputs": [
    {
     "name": "stdout",
     "output_type": "stream",
     "text": [
      "[[ 400 1000 1800]]\n",
      "0.0006069000000081815\n"
     ]
    }
   ],
   "source": [
    "import timeit\n",
    "\n",
    "mysetup = \"from math import prod\"\n",
    "\n",
    "mycode = '''\n",
    "\n",
    "import numpy as np\n",
    "l1 = [10,20,30]\n",
    "l2 = [40,50,60]\n",
    "l3 = np.array([l1])\n",
    "l4 = np.array([l2])\n",
    "mul = np.multiply(l3,l4)\n",
    "\n",
    "print(mul)\n",
    "'''\n",
    "\n",
    "print(timeit.timeit(setup = mysetup,stmt = mycode, number=1))"
   ]
  },
  {
   "cell_type": "markdown",
   "metadata": {
    "id": "CJrqooYWYuk_"
   },
   "source": [
    "Don't worry if still your one line of code is running. Its because your system is calculating total time taken to run your code.\n",
    "\n",
    "Did you notice buddy! time taken to multiply two lists takes more time than multiplyimg two numpy array.\n",
    "Hence proved that numpy arrays are faster than lists.\n",
    "\n",
    "**Fun Fact time!:**\n",
    "\n",
    "You know in many data science interviews it is asked that what is the difference between list and array.<br>\n"
   ]
  },
  {
   "cell_type": "code",
   "execution_count": 13,
   "metadata": {
    "id": "BnwTOtdDYulA"
   },
   "outputs": [
    {
     "name": "stdout",
     "output_type": "stream",
     "text": [
      "A\n",
      " [ 1  2  3  4  5  6  7  8  9 10]\n"
     ]
    }
   ],
   "source": [
    "#Create a numpy array using arange with 1 and 11 as parameter in it\n",
    "print(\"A\\n\",np.arange(1,11))"
   ]
  },
  {
   "cell_type": "markdown",
   "metadata": {
    "id": "QiuRfP4OYulA"
   },
   "source": [
    "This means using arrange we get evenly spaced values within a given interval. Interval? Yes you can mention interval as well as third parameter in it."
   ]
  },
  {
   "cell_type": "code",
   "execution_count": 14,
   "metadata": {
    "id": "TDdTXBZcYulA"
   },
   "outputs": [
    {
     "name": "stdout",
     "output_type": "stream",
     "text": [
      "[1 3 5 7 9]\n"
     ]
    }
   ],
   "source": [
    "# Create an array using arange passing 1,11 and 2 as parameter in iter\n",
    "\n",
    "A = np.arange(start=1,stop=11,step=2)\n",
    "print(A)"
   ]
  },
  {
   "cell_type": "code",
   "execution_count": 15,
   "metadata": {
    "id": "IFYEePpeYulA"
   },
   "outputs": [
    {
     "data": {
      "text/plain": [
       "array([[1., 0., 0.],\n",
       "       [0., 1., 0.],\n",
       "       [0., 0., 1.]])"
      ]
     },
     "execution_count": 15,
     "metadata": {},
     "output_type": "execute_result"
    }
   ],
   "source": [
    "# create numpy array using eye function with 3 as passed parameter\n",
    "D = np.eye(3)\n",
    "D"
   ]
  },
  {
   "cell_type": "code",
   "execution_count": 16,
   "metadata": {
    "id": "rXpUyqTYYulD"
   },
   "outputs": [
    {
     "data": {
      "text/plain": [
       "array([ 1,  2,  3,  4,  5,  6,  7,  8,  9, 10, 11, 12, 13, 14, 15, 16])"
      ]
     },
     "execution_count": 16,
     "metadata": {},
     "output_type": "execute_result"
    }
   ],
   "source": [
    "# Using arange() to generate numpy array x with numbers between 1 to 16\n",
    "x=np.arange(1,17)\n",
    "x"
   ]
  },
  {
   "cell_type": "code",
   "execution_count": 17,
   "metadata": {
    "id": "JkQG8RyFYulE"
   },
   "outputs": [
    {
     "data": {
      "text/plain": [
       "array([[ 1,  2,  3,  4,  5,  6,  7,  8],\n",
       "       [ 9, 10, 11, 12, 13, 14, 15, 16]])"
      ]
     },
     "execution_count": 17,
     "metadata": {},
     "output_type": "execute_result"
    }
   ],
   "source": [
    "# Reshape x with 2 rows and 8 columns\n",
    "newx = x.reshape(2,8)\n",
    "newx"
   ]
  },
  {
   "cell_type": "markdown",
   "metadata": {
    "id": "Eu-DgBCRYulE"
   },
   "source": [
    "As you can see above that our x changed into 2D matrix\n",
    "\n",
    "2. Reshaping 1-D to 3-D array\n"
   ]
  },
  {
   "cell_type": "code",
   "execution_count": 18,
   "metadata": {
    "id": "Ue760dxYYulE"
   },
   "outputs": [
    {
     "data": {
      "text/plain": [
       "array([[[ 1,  2],\n",
       "        [ 3,  4],\n",
       "        [ 5,  6],\n",
       "        [ 7,  8]],\n",
       "\n",
       "       [[ 9, 10],\n",
       "        [11, 12],\n",
       "        [13, 14],\n",
       "        [15, 16]]])"
      ]
     },
     "execution_count": 18,
     "metadata": {},
     "output_type": "execute_result"
    }
   ],
   "source": [
    "# reshaoe x with dimension that will have 2 arrays that contains 4 arrays, each with 2 elements:\n",
    "newxx = x.reshape(2,4,2)\n",
    "newxx"
   ]
  },
  {
   "cell_type": "code",
   "execution_count": 19,
   "metadata": {
    "id": "xlfI-eC2YulE"
   },
   "outputs": [
    {
     "data": {
      "text/plain": [
       "array([[ 1,  2,  3,  4],\n",
       "       [ 5,  6,  7,  8],\n",
       "       [ 9, 10, 11, 12],\n",
       "       [13, 14, 15, 16]])"
      ]
     },
     "execution_count": 19,
     "metadata": {},
     "output_type": "execute_result"
    }
   ],
   "source": [
    "# Use unknown dimention to reshape x into 2-D numpy array with shape 4*4\n",
    "\n",
    "\n",
    "arr = x.reshape(-1,4)\n",
    "arr"
   ]
  },
  {
   "cell_type": "code",
   "execution_count": 20,
   "metadata": {
    "id": "NDRDRGkUYulE"
   },
   "outputs": [
    {
     "data": {
      "text/plain": [
       "array([[[ 1,  2],\n",
       "        [ 3,  4],\n",
       "        [ 5,  6],\n",
       "        [ 7,  8]],\n",
       "\n",
       "       [[ 9, 10],\n",
       "        [11, 12],\n",
       "        [13, 14],\n",
       "        [15, 16]]])"
      ]
     },
     "execution_count": 20,
     "metadata": {},
     "output_type": "execute_result"
    }
   ],
   "source": [
    "# Use unknown dimention to  reshape x into 3-D numpy array with 2 arrays that contains 4 arrays\n",
    "y= x.reshape(2,4,-1)\n",
    "\n",
    "\n",
    "# print y\n",
    "y\n"
   ]
  },
  {
   "cell_type": "code",
   "execution_count": 21,
   "metadata": {
    "id": "iHuEimtTYulF"
   },
   "outputs": [
    {
     "data": {
      "text/plain": [
       "array([ 1,  9,  3, 11,  5, 13,  7, 15,  2, 10,  4, 12,  6, 14,  8, 16])"
      ]
     },
     "execution_count": 21,
     "metadata": {},
     "output_type": "execute_result"
    }
   ],
   "source": [
    "# Flattening y\n",
    "z = y.flatten('C')\n",
    "z = y.flatten('F')\n",
    "z"
   ]
  },
  {
   "cell_type": "code",
   "execution_count": 22,
   "metadata": {
    "id": "liRM5zN0YulF"
   },
   "outputs": [
    {
     "data": {
      "text/plain": [
       "array([ 2,  4,  6,  8, 10, 12, 14, 16])"
      ]
     },
     "execution_count": 22,
     "metadata": {},
     "output_type": "execute_result"
    }
   ],
   "source": [
    "# Create an array a with all even numbers between 1 to 17\n",
    "a = np.arange(1,17)\n",
    "a\n",
    "bb = (a%2 ==0)\n",
    "c = a[bb]\n",
    "\n",
    "\n",
    "# print a\n",
    "c"
   ]
  },
  {
   "cell_type": "code",
   "execution_count": 23,
   "metadata": {
    "id": "GysmjjOQYulF"
   },
   "outputs": [
    {
     "name": "stdout",
     "output_type": "stream",
     "text": [
      "6\n"
     ]
    }
   ],
   "source": [
    "# Get third element in array a\n",
    "print(c[2])"
   ]
  },
  {
   "cell_type": "code",
   "execution_count": 24,
   "metadata": {
    "id": "QJDw7E2VYulF"
   },
   "outputs": [
    {
     "name": "stdout",
     "output_type": "stream",
     "text": [
      "[ 6 10 14]\n"
     ]
    }
   ],
   "source": [
    "#Print 3rd, 5th, and 7th element in array a\n",
    "print(c[2:7:2])\n"
   ]
  },
  {
   "cell_type": "markdown",
   "metadata": {
    "id": "6FauyJCQYulF"
   },
   "source": [
    "Lets check the same for 2 D array"
   ]
  },
  {
   "cell_type": "code",
   "execution_count": 25,
   "metadata": {
    "id": "yomRzY6aYulF"
   },
   "outputs": [],
   "source": [
    "# Define an array 2-D a with [[1,2,3],[4,5,6],[7,8,9]] as its elements.\n",
    "a = np.array([[1,2,3],[4,5,6],[7,8,9]])\n",
    "\n"
   ]
  },
  {
   "cell_type": "code",
   "execution_count": 26,
   "metadata": {
    "id": "VTGpLidrYulF"
   },
   "outputs": [
    {
     "name": "stdout",
     "output_type": "stream",
     "text": [
      "9\n"
     ]
    }
   ],
   "source": [
    "# print the 3rd element from the 3rd row of a\n",
    "\n",
    "print(a[2,2])"
   ]
  },
  {
   "cell_type": "markdown",
   "metadata": {
    "id": "-fPw_4ZBYulF"
   },
   "source": [
    "Well done!\n",
    "\n",
    "Now lets check indexing for 3 D array "
   ]
  },
  {
   "cell_type": "code",
   "execution_count": 27,
   "metadata": {
    "id": "VISPaw3PYulG"
   },
   "outputs": [],
   "source": [
    "# Define an array b again with [[[1, 2, 3], [4, 5, 6]], [[7, 8, 9], [10, 11, 12]]] as its elements.\n",
    "b = np.array([[[1, 2, 3], [4, 5, 6]], [[7, 8, 9], [10, 11, 12]]]) \n",
    "\n"
   ]
  },
  {
   "cell_type": "code",
   "execution_count": 28,
   "metadata": {
    "id": "UrFj656mYulG"
   },
   "outputs": [
    {
     "name": "stdout",
     "output_type": "stream",
     "text": [
      "9\n"
     ]
    }
   ],
   "source": [
    "# Print 3rd element from 2nd list which is 1st list in nested list passed. Confusing right? 'a' have nested array.Understand the braket differences.\n",
    "\n",
    "\n",
    "print(b[1,0,2])"
   ]
  },
  {
   "cell_type": "code",
   "execution_count": 29,
   "metadata": {
    "id": "9ZadW42fYulG"
   },
   "outputs": [],
   "source": [
    "# Create 1D array\n",
    "\n",
    "arr=np.array([1,2,3,4,5,6,7,8,9,10])"
   ]
  },
  {
   "cell_type": "code",
   "execution_count": 30,
   "metadata": {
    "id": "fm2dtL6EYulG"
   },
   "outputs": [
    {
     "data": {
      "text/plain": [
       "array([1, 2, 3, 4])"
      ]
     },
     "execution_count": 30,
     "metadata": {},
     "output_type": "execute_result"
    }
   ],
   "source": [
    "# Slice elements from 1st to 5th element from the following array:\n",
    "\n",
    "arr[0:4]"
   ]
  },
  {
   "cell_type": "markdown",
   "metadata": {
    "id": "ghqluYgMYulG"
   },
   "source": [
    "Note: The result includes the start index, but excludes the end index.\n",
    "\n"
   ]
  },
  {
   "cell_type": "code",
   "execution_count": 31,
   "metadata": {
    "id": "g4uVBo1oYulH"
   },
   "outputs": [
    {
     "data": {
      "text/plain": [
       "array([ 6,  7,  8,  9, 10])"
      ]
     },
     "execution_count": 31,
     "metadata": {},
     "output_type": "execute_result"
    }
   ],
   "source": [
    "# Slice elements from index 5 to the end of the array:\n",
    "arr[5:]"
   ]
  },
  {
   "cell_type": "code",
   "execution_count": 32,
   "metadata": {
    "id": "1t4V3OSaYulH"
   },
   "outputs": [
    {
     "data": {
      "text/plain": [
       "array([1, 2, 3, 4])"
      ]
     },
     "execution_count": 32,
     "metadata": {},
     "output_type": "execute_result"
    }
   ],
   "source": [
    "# Slice elements from the beginning to index 5 (not included):\n",
    "\n",
    "arr[:4]"
   ]
  },
  {
   "cell_type": "markdown",
   "metadata": {
    "id": "_sk9yNamYulH"
   },
   "source": [
    "**STEP**\n",
    "\n",
    "Use the step value to determine the step of the slicing:"
   ]
  },
  {
   "cell_type": "code",
   "execution_count": 33,
   "metadata": {
    "id": "1OXANncfYulH"
   },
   "outputs": [
    {
     "name": "stdout",
     "output_type": "stream",
     "text": [
      "[2 4 6]\n"
     ]
    }
   ],
   "source": [
    "# Print every other element from index 1 to index 7:\n",
    "\n",
    "\n",
    "print(arr[1:7:2])"
   ]
  },
  {
   "cell_type": "markdown",
   "metadata": {
    "id": "mpk1-Nd2YulH"
   },
   "source": [
    "Did you see? using step you were able to get alternate elements within specified index numbers."
   ]
  },
  {
   "cell_type": "code",
   "execution_count": 34,
   "metadata": {
    "id": "HxPLcXudYulH"
   },
   "outputs": [
    {
     "name": "stdout",
     "output_type": "stream",
     "text": [
      "[1 3 5 7 9]\n"
     ]
    }
   ],
   "source": [
    "# Return every other element from the entire array arr:\n",
    "\n",
    "\n",
    "print(arr[: : 2])"
   ]
  },
  {
   "cell_type": "markdown",
   "metadata": {
    "id": "d3m3TAVKYulH"
   },
   "source": [
    "well done!\n",
    "\n",
    "Lets do some slicing on 2-D array also. We already have 'a' as our 2-D array. We will use it here.\n",
    "\n",
    "**Array slicing in 2-D array.**"
   ]
  },
  {
   "cell_type": "code",
   "execution_count": 35,
   "metadata": {
    "id": "rPVvZ707YulI"
   },
   "outputs": [
    {
     "data": {
      "text/plain": [
       "array([[1, 2, 3],\n",
       "       [4, 5, 6]])"
      ]
     },
     "execution_count": 35,
     "metadata": {},
     "output_type": "execute_result"
    }
   ],
   "source": [
    "# Print array a\n",
    "a = np.array([[1,2,3],[4,5,6]])\n",
    "a"
   ]
  },
  {
   "cell_type": "code",
   "execution_count": 36,
   "metadata": {
    "id": "uGHClMHiYulI"
   },
   "outputs": [
    {
     "name": "stdout",
     "output_type": "stream",
     "text": [
      "[5 6]\n"
     ]
    }
   ],
   "source": [
    "# From the third element, slice elements from index 1 to index 5 (not included) from array 'a'\n",
    "\n",
    "\n",
    "print(a[1,1:5])"
   ]
  },
  {
   "cell_type": "code",
   "execution_count": 37,
   "metadata": {
    "id": "mApmbts7YulI"
   },
   "outputs": [
    {
     "name": "stdout",
     "output_type": "stream",
     "text": [
      "[3 6]\n"
     ]
    }
   ],
   "source": [
    "# In array 'a' print index 2 from all the elements :\n",
    "\n",
    "print(a[0:2,2])"
   ]
  },
  {
   "cell_type": "code",
   "execution_count": 38,
   "metadata": {
    "id": "XupmT4oLYulI"
   },
   "outputs": [
    {
     "name": "stdout",
     "output_type": "stream",
     "text": [
      "[[4 5 6]]\n"
     ]
    }
   ],
   "source": [
    "# From all the elements in 'a', slice index 1 till end, this will return a 2-D array:\n",
    "\n",
    "\n",
    "print(a[1:])"
   ]
  },
  {
   "cell_type": "markdown",
   "metadata": {
    "id": "3-YDc-LnYulI"
   },
   "source": [
    "Hurray! You have learned Slicing in Numpy array. Now you know to access any numpy array."
   ]
  },
  {
   "cell_type": "markdown",
   "metadata": {
    "id": "kCiQoJ7DYulI"
   },
   "source": [
    "## Numpy copy vs view"
   ]
  },
  {
   "cell_type": "code",
   "execution_count": 39,
   "metadata": {
    "id": "qMAPlnpnYulI"
   },
   "outputs": [],
   "source": [
    "x1= np.array([2,4,6,8]) \n",
    "\n"
   ]
  },
  {
   "cell_type": "code",
   "execution_count": 41,
   "metadata": {
    "id": "Fjjpvmw4YulI"
   },
   "outputs": [],
   "source": [
    "# assign x2 = x1\n",
    "\n",
    "x2 = x1"
   ]
  },
  {
   "cell_type": "code",
   "execution_count": 42,
   "metadata": {
    "id": "CZ8h9KxSYulI"
   },
   "outputs": [
    {
     "name": "stdout",
     "output_type": "stream",
     "text": [
      "[2 4 6 8]\n",
      "[2 4 6 8]\n"
     ]
    }
   ],
   "source": [
    "#print x1 and x2\n",
    "\n",
    "print(x1)\n",
    "print(x2)"
   ]
  },
  {
   "cell_type": "markdown",
   "metadata": {
    "id": "CAOn1lSVYulI"
   },
   "source": [
    "Ok now you have seen that both of them are same "
   ]
  },
  {
   "cell_type": "code",
   "execution_count": 43,
   "metadata": {
    "id": "H12TCKrSYulJ"
   },
   "outputs": [],
   "source": [
    "# change 1st element of x2 as 10\n",
    "\n",
    "\n",
    "x2[0] = 10"
   ]
  },
  {
   "cell_type": "code",
   "execution_count": 45,
   "metadata": {
    "id": "jO5qSqZVYulJ"
   },
   "outputs": [
    {
     "name": "stdout",
     "output_type": "stream",
     "text": [
      "[10  4  6  8]\n",
      "[10  4  6  8]\n"
     ]
    }
   ],
   "source": [
    "#Again print x1 and x2\n",
    "print(x1)\n",
    "print(x2)"
   ]
  },
  {
   "cell_type": "code",
   "execution_count": 46,
   "metadata": {
    "id": "wruaMhObYulJ"
   },
   "outputs": [
    {
     "name": "stdout",
     "output_type": "stream",
     "text": [
      "Memory size of numpy array in bytes: 16\n",
      "Memory size of numpy array in bytes: 16\n"
     ]
    }
   ],
   "source": [
    "# Check memory share between x1 and x2\n",
    "\n",
    "print(\"Memory size of numpy array in bytes:\",\n",
    "      x1.size * x1.itemsize)\n",
    "print(\"Memory size of numpy array in bytes:\",\n",
    "      x2.size * x2.itemsize)"
   ]
  },
  {
   "cell_type": "markdown",
   "metadata": {
    "id": "8FfiAWw_YulJ"
   },
   "source": [
    "Hey It's True they both share memory\n",
    "\n",
    "Shall we try **view()** function also likwise."
   ]
  },
  {
   "cell_type": "code",
   "execution_count": 47,
   "metadata": {
    "id": "ylweEJUtYulJ"
   },
   "outputs": [],
   "source": [
    "# Create a view of x1 and store it in x3.\n",
    "x3 = x1.view()"
   ]
  },
  {
   "cell_type": "code",
   "execution_count": 48,
   "metadata": {
    "id": "La-iF23VYulJ"
   },
   "outputs": [
    {
     "name": "stdout",
     "output_type": "stream",
     "text": [
      "Memory size of numpy array in bytes: 16\n",
      "Memory size of numpy array in bytes: 16\n"
     ]
    }
   ],
   "source": [
    "# Again check memory share between x1 and x3\n",
    "\n",
    "print(\"Memory size of numpy array in bytes:\",\n",
    "      x1.nbytes)\n",
    "print(\"Memory size of numpy array in bytes:\",\n",
    "      x3.nbytes)"
   ]
  },
  {
   "cell_type": "markdown",
   "metadata": {
    "id": "vkE_1h-5YulJ"
   },
   "source": [
    "Woh! simple assignment is similar to view. That means \n",
    "The view does not own the data and any changes made to the view will affect the original array, and any changes made to the original array will affect the view.\n",
    "\n",
    "Don't agree? ok lets change x3 and see if original array i.e. x1 also changes"
   ]
  },
  {
   "cell_type": "code",
   "execution_count": 49,
   "metadata": {
    "id": "34UnXXvwYulJ"
   },
   "outputs": [],
   "source": [
    "#Change 1st element of x3=100\n",
    "\n",
    "x3[0] = 100"
   ]
  },
  {
   "cell_type": "code",
   "execution_count": 50,
   "metadata": {
    "id": "p64U7WsGYulJ"
   },
   "outputs": [
    {
     "name": "stdout",
     "output_type": "stream",
     "text": [
      "[100   4   6   8]\n",
      "[100   4   6   8]\n"
     ]
    }
   ],
   "source": [
    "#print x1 and x3 to check if changes reflected in both\n",
    "print(x1)\n",
    "print(x3)"
   ]
  },
  {
   "cell_type": "markdown",
   "metadata": {
    "id": "aPgZUErOYulK"
   },
   "source": [
    "Now its proved.\n",
    "\n",
    "Lets see how **Copy()** function works"
   ]
  },
  {
   "cell_type": "code",
   "execution_count": 51,
   "metadata": {
    "id": "AB_dXmMrYulK"
   },
   "outputs": [],
   "source": [
    "# Now create an array x4 which is copy of x1\n",
    "\n",
    "x4 = x1.copy() \n",
    "\n"
   ]
  },
  {
   "cell_type": "code",
   "execution_count": 52,
   "metadata": {
    "id": "8_Ub7cuZYulK"
   },
   "outputs": [],
   "source": [
    "# Change the last element of x4 as 900\n",
    "\n",
    "x4[3] = 900"
   ]
  },
  {
   "cell_type": "code",
   "execution_count": 53,
   "metadata": {
    "id": "xEUDBraHYulK"
   },
   "outputs": [
    {
     "name": "stdout",
     "output_type": "stream",
     "text": [
      "[100   4   6   8]\n",
      "[100   4   6 900]\n"
     ]
    }
   ],
   "source": [
    "# print both x1 and x4 to check if changes reflected in both\n",
    "\n",
    "print(x1)\n",
    "print(x4)"
   ]
  },
  {
   "cell_type": "markdown",
   "metadata": {
    "id": "uMfFQMlNYulK"
   },
   "source": [
    "Hey! such an intresting output. You noticed buddy! your original array didn't get changed on change of its copy ie. x4.\n",
    "\n",
    "Still not convinced? Ok lets see if they both share memory or not"
   ]
  },
  {
   "cell_type": "code",
   "execution_count": 54,
   "metadata": {
    "id": "VZbJx19hYulK"
   },
   "outputs": [
    {
     "name": "stdout",
     "output_type": "stream",
     "text": [
      "16\n",
      "16\n"
     ]
    }
   ],
   "source": [
    "#Check memory share between x1 and x4\n",
    "\n",
    "\n",
    "print(x1.nbytes)\n",
    "print(x4.nbytes)"
   ]
  },
  {
   "cell_type": "markdown",
   "metadata": {
    "id": "1vgtMyk8YulM"
   },
   "source": [
    "**hstack vs vstack function**\n",
    "\n",
    "\n",
    "Stacking is same as concatenation, the only difference is that stacking is done along a new axis.\n",
    "\n",
    "NumPy provides a helper function: \n",
    "\n",
    "1. hstack() to stack along rows.\n",
    "2. vstack()  to stack along columns"
   ]
  },
  {
   "cell_type": "code",
   "execution_count": 55,
   "metadata": {
    "id": "8iXSmEsmYulM"
   },
   "outputs": [
    {
     "data": {
      "text/plain": [
       "array([[100,   4,   6,   8],\n",
       "       [100,   4,   6, 900]])"
      ]
     },
     "execution_count": 55,
     "metadata": {},
     "output_type": "execute_result"
    }
   ],
   "source": [
    "# stack x1 and x4 along columns.\n",
    "\n",
    "res = np.vstack((x1,x4))\n",
    "res"
   ]
  },
  {
   "cell_type": "code",
   "execution_count": 56,
   "metadata": {
    "id": "VQpItcdCYulM"
   },
   "outputs": [
    {
     "data": {
      "text/plain": [
       "array([100,   4,   6,   8, 100,   4,   6, 900])"
      ]
     },
     "execution_count": 56,
     "metadata": {},
     "output_type": "execute_result"
    }
   ],
   "source": [
    "#stack x1 and x4 along rows\n",
    "res1 = np.hstack((x1,x4))\n",
    "res1\n"
   ]
  },
  {
   "cell_type": "markdown",
   "metadata": {
    "id": "YJD_N7B_YulM"
   },
   "source": [
    "We hope now you saw the difference between them.\n",
    "\n",
    "Fun fact! you can even use concatenate() function to join 2 arrays along with the axis. If axis is not explicitly passed, it is taken as 0 ie. along column\n",
    "\n",
    "Lets try this function as well"
   ]
  },
  {
   "cell_type": "code",
   "execution_count": 57,
   "metadata": {
    "id": "P2SNMvTaYulM"
   },
   "outputs": [
    {
     "data": {
      "text/plain": [
       "array([[1, 1, 1, 1],\n",
       "       [1, 0, 1, 0],\n",
       "       [1, 2, 1, 2],\n",
       "       [0, 1, 0, 1]])"
      ]
     },
     "execution_count": 57,
     "metadata": {},
     "output_type": "execute_result"
    }
   ],
   "source": [
    "arr1 = np.array([[1,1,1,1],[1,0,1,0]])\n",
    "arr2 = np.array([[1,2,1,2],[0,1,0,1]])\n",
    "\n",
    "\n",
    "##join arr1 and arr2 along rows using concatenate() function\n",
    "newarr = np.concatenate((arr1,arr2),axis=0)\n",
    "newarr"
   ]
  },
  {
   "cell_type": "code",
   "execution_count": 58,
   "metadata": {
    "id": "dbf1xSfeYulN"
   },
   "outputs": [
    {
     "data": {
      "text/plain": [
       "array([[1, 1, 1, 1, 1, 2, 1, 2],\n",
       "       [1, 0, 1, 0, 0, 1, 0, 1]])"
      ]
     },
     "execution_count": 58,
     "metadata": {},
     "output_type": "execute_result"
    }
   ],
   "source": [
    "##join arr1 and arr2 along columns using concatenate() function\n",
    "\n",
    "newarr = np.concatenate((arr1,arr2),axis=1)\n",
    "newarr"
   ]
  },
  {
   "cell_type": "markdown",
   "metadata": {
    "id": "WKy9Lu4vYulN"
   },
   "source": [
    "## Adding, Insert and delete Numpy array"
   ]
  },
  {
   "cell_type": "markdown",
   "metadata": {
    "id": "_W4bZ70AYulN"
   },
   "source": [
    "You can also add 2 arrays using append() function also. This function appends values to end of array\n",
    "\n",
    "Lets see how"
   ]
  },
  {
   "cell_type": "code",
   "execution_count": 59,
   "metadata": {
    "id": "yC1yIKfPYulN"
   },
   "outputs": [
    {
     "data": {
      "text/plain": [
       "array([1, 1, 1, 1, 1, 0, 1, 0, 1, 2, 1, 2, 0, 1, 0, 1])"
      ]
     },
     "execution_count": 59,
     "metadata": {},
     "output_type": "execute_result"
    }
   ],
   "source": [
    "# append arr2 to arr1\n",
    "np.append(arr1,arr2)\n"
   ]
  },
  {
   "cell_type": "markdown",
   "metadata": {
    "id": "Jb4EPxL4YulN"
   },
   "source": [
    "Lets use insert() function which Inserts values into array before specified index value"
   ]
  },
  {
   "cell_type": "code",
   "execution_count": 60,
   "metadata": {
    "id": "2pF_KctFYulN"
   },
   "outputs": [
    {
     "data": {
      "text/plain": [
       "array([100,   4,   6, 100,   4,   6, 900,   8])"
      ]
     },
     "execution_count": 60,
     "metadata": {},
     "output_type": "execute_result"
    }
   ],
   "source": [
    "# Inserts values into array x1 before index 4 with elements of x4\n",
    "np.insert(x1,3,x4)\n"
   ]
  },
  {
   "cell_type": "markdown",
   "metadata": {
    "id": "uTDcvWAPYulN"
   },
   "source": [
    "You can see in above output we have inserted all the elements of x4 before index 4 in array x1."
   ]
  },
  {
   "cell_type": "code",
   "execution_count": 61,
   "metadata": {
    "id": "btEqORsVYulN"
   },
   "outputs": [
    {
     "data": {
      "text/plain": [
       "array([100,   6,   8])"
      ]
     },
     "execution_count": 61,
     "metadata": {},
     "output_type": "execute_result"
    }
   ],
   "source": [
    "# delete 2nd element from array x2\n",
    "\n",
    "\n",
    "np.delete(x2,1)"
   ]
  },
  {
   "cell_type": "markdown",
   "metadata": {
    "id": "HcSC-kfxYulO"
   },
   "source": [
    "Did you see? 2 value is deleted from x2 which was at index position 2"
   ]
  },
  {
   "cell_type": "markdown",
   "metadata": {
    "id": "3XDGaMkZYulS"
   },
   "source": [
    "Good Job learner! "
   ]
  },
  {
   "cell_type": "code",
   "execution_count": null,
   "metadata": {
    "id": "CSpHyauaC9Y4"
   },
   "outputs": [],
   "source": []
  }
 ],
 "metadata": {
  "colab": {
   "provenance": []
  },
  "kernelspec": {
   "display_name": "Python 3 (ipykernel)",
   "language": "python",
   "name": "python3"
  },
  "language_info": {
   "codemirror_mode": {
    "name": "ipython",
    "version": 3
   },
   "file_extension": ".py",
   "mimetype": "text/x-python",
   "name": "python",
   "nbconvert_exporter": "python",
   "pygments_lexer": "ipython3",
   "version": "3.9.12"
  }
 },
 "nbformat": 4,
 "nbformat_minor": 1
}
